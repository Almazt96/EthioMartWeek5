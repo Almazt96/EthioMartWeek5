{
 "cells": [
  {
   "cell_type": "code",
   "execution_count": 2,
   "metadata": {},
   "outputs": [],
   "source": [
    "# 2. Label Dataset in CoNLL Format\n",
    "# Objective: Convert labeled Amharic text into CoNLL format.\n",
    "# Libraries/Tools: pandas, text editors.\n",
    "# 1.\tFormat data with entity tags (B-, I-, O):\n",
    "\n",
    "def format_to_conll(df, entity_mapping):\n",
    "    conll_data = []\n",
    "    for _, row in df.iterrows():\n",
    "        tokens = row['clean_text'].split()\n",
    "        labels = ['O'] * len(tokens)  # Initialize with Outside (O)\n",
    "        # Apply labeling logic\n",
    "        for token in tokens:\n",
    "            if token in entity_mapping:\n",
    "                labels[tokens.index(token)] = entity_mapping[token]\n",
    "        conll_data.extend(list(zip(tokens, labels)))\n",
    "        conll_data.append((\"\", \"\"))  # Separate sentences\n",
    "    return conll_data\n",
    "\n",
    "# Example entity mapping and usage\n",
    "import pandas as pd\n",
    "\n",
    "# Sample data for clean_data\n",
    "data = {\n",
    "    'clean_text': [\n",
    "        'አዲስ ቤተማር ብር',\n",
    "        'አዲስ ቤተማር',\n",
    "        'ብር አዲስ'\n",
    "    ]\n",
    "}\n",
    "clean_data = pd.DataFrame(data)\n",
    "\n",
    "entity_mapping = {'አዲስ': 'B-LOC', 'ቤተማር': 'B-Product', 'ብር': 'B-PRICE'}\n",
    "labeled_data = format_to_conll(clean_data, entity_mapping)\n",
    "# 2.\tSave CoNLL format to a plain text file:\n",
    "\n",
    "with open(\"labeled_data.conll\", \"w\", encoding=\"utf-8\") as f:\n",
    "    for token, label in labeled_data:\n",
    "        f.write(f\"{token} {label}\\n\" if token else \"\\n\")"
   ]
  }
 ],
 "metadata": {
  "kernelspec": {
   "display_name": "Python 3",
   "language": "python",
   "name": "python3"
  },
  "language_info": {
   "codemirror_mode": {
    "name": "ipython",
    "version": 3
   },
   "file_extension": ".py",
   "mimetype": "text/x-python",
   "name": "python",
   "nbconvert_exporter": "python",
   "pygments_lexer": "ipython3",
   "version": "3.13.1"
  }
 },
 "nbformat": 4,
 "nbformat_minor": 2
}
