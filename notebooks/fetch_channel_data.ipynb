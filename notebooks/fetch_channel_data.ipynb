{
 "cells": [
  {
   "cell_type": "code",
   "execution_count": 4,
   "metadata": {},
   "outputs": [
    {
     "name": "stdout",
     "output_type": "stream",
     "text": [
      "False\n",
      "API ID: None\n",
      "API Hash: None\n",
      "Phone: None\n"
     ]
    }
   ],
   "source": [
    "# Fetch messages with error handling\n",
    "\n",
    "import pandas as pd\n",
    "import logging\n",
    "from dotenv import load_dotenv\n",
    "import os\n",
    "\n",
    "# Load environment variables from .env file\n",
    "load_dotenv()\n",
    "\n",
    "print(load_dotenv())\n",
    "\n",
    "# Access variables\n",
    "api_id = os.getenv(\"TELEGRAM_API_ID\")\n",
    "api_hash = os.getenv(\"TELEGRAM_API_HASH\")\n",
    "phone = os.getenv(\"TELEGRAM_PHONE\")\n",
    "output_path = os.getenv(\"OUTPUT_PATH\")\n",
    "\n",
    "print(f\"API ID: {api_id}\")\n",
    "print(f\"API Hash: {api_hash}\")\n",
    "print(f\"Phone: {phone}\")\n",
    "\n",
    "def fetch_channel_data(channel_username, limit=50):\n",
    "    try:\n",
    "        messages = []\n",
    "        for message in client.iter_messages(channel_username, limit=limit):\n",
    "            if message.text:\n",
    "                messages.append({\n",
    "                    'text': message.text,\n",
    "                    'date': message.date,\n",
    "                    'sender': message.sender.username if message.sender else None\n",
    "                })\n",
    "        return pd.DataFrame(messages)\n",
    "    except Exception as e:\n",
    "        logging.error(f\"Error fetching data from {channel_username}: {e}\")\n",
    "        return pd.DataFrame()  # Return empty DataFrame in case of failure"
   ]
  }
 ],
 "metadata": {
  "kernelspec": {
   "display_name": "Python 3",
   "language": "python",
   "name": "python3"
  },
  "language_info": {
   "codemirror_mode": {
    "name": "ipython",
    "version": 3
   },
   "file_extension": ".py",
   "mimetype": "text/x-python",
   "name": "python",
   "nbconvert_exporter": "python",
   "pygments_lexer": "ipython3",
   "version": "3.13.1"
  }
 },
 "nbformat": 4,
 "nbformat_minor": 2
}
