{
 "cells": [
  {
   "cell_type": "code",
   "execution_count": null,
   "metadata": {},
   "outputs": [
    {
     "name": "stdout",
     "output_type": "stream",
     "text": [
      "Requirement already satisfied: python-dotenv in c:\\users\\almazt\\appdata\\local\\programs\\python\\python313\\lib\\site-packages (1.0.1)\n",
      "Note: you may need to restart the kernel to use updated packages.\n"
     ]
    },
    {
     "ename": "NameError",
     "evalue": "name 'OperationalError' is not defined",
     "output_type": "error",
     "traceback": [
      "\u001b[1;31m---------------------------------------------------------------------------\u001b[0m",
      "\u001b[1;31mNameError\u001b[0m                                 Traceback (most recent call last)",
      "Cell \u001b[1;32mIn[15], line 34\u001b[0m\n\u001b[0;32m     31\u001b[0m     \u001b[38;5;28;01mfinally\u001b[39;00m:\n\u001b[0;32m     32\u001b[0m         \u001b[38;5;66;03m# Ensure the client is disconnected\u001b[39;00m\n\u001b[0;32m     33\u001b[0m         client\u001b[38;5;241m.\u001b[39mdisconnect()\n\u001b[1;32m---> 34\u001b[0m \u001b[38;5;129m@retry\u001b[39m(\u001b[43mOperationalError\u001b[49m, tries\u001b[38;5;241m=\u001b[39m\u001b[38;5;241m5\u001b[39m, delay\u001b[38;5;241m=\u001b[39m\u001b[38;5;241m2\u001b[39m)\n\u001b[0;32m     35\u001b[0m \u001b[38;5;28;01mdef\u001b[39;00m \u001b[38;5;21msave_data_with_retry\u001b[39m(data, file_path):\n\u001b[0;32m     36\u001b[0m     data\u001b[38;5;241m.\u001b[39mto_csv(file_path, index\u001b[38;5;241m=\u001b[39m\u001b[38;5;28;01mFalse\u001b[39;00m)\n\u001b[0;32m     38\u001b[0m \u001b[38;5;66;03m# Run pipeline\u001b[39;00m\n",
      "\u001b[1;31mNameError\u001b[0m: name 'OperationalError' is not defined"
     ]
    }
   ],
   "source": [
    "# Import necessary libraries\n",
    "import logging\n",
    "import os\n",
    "import pandas as pd\n",
    "from telethon.sync import TelegramClient\n",
    "\n",
    "def main():\n",
    "    channel_username = 'meneshayeofficial'  # Replace with desired channel\n",
    "    output_path=r'C:\\Users\\Almazt\\OneDrive - Ethiopian Airlines\\Desktop\\10 Academy\\EthioMart-Week 5\\data'\n",
    "    output_file = os.path.join(output_path, 'telegram_clean_data.csv')\n",
    "\n",
    "    client = TelegramClient(phone_number, api_id, api_hash)\n",
    "\n",
    "    # Connect to Telegram\n",
    "    try:\n",
    "        client.start()\n",
    "        logging.info(\"Client connected successfully!\")\n",
    "\n",
    "        # Fetch and preprocess data\n",
    "        channel_data = fetch_channel_data(channel_username)\n",
    "        if not channel_data.empty:\n",
    "            clean_data = preprocess_amharic_text(channel_data)\n",
    "            save_data_with_retry(clean_data, output_file)\n",
    "            # Save data\n",
    "            clean_data.to_csv(output_file, index=False)\n",
    "            logging.info(f\"Data saved to {output_file}\")\n",
    "        else:\n",
    "            logging.error(\"No data fetched.\")\n",
    "\n",
    "    finally:\n",
    "        # Ensure the client is disconnected\n",
    "        client.disconnect()\n",
    "@retry(OperationalError, tries=5, delay=2)\n",
    "def save_data_with_retry(data, file_path):\n",
    "    data.to_csv(file_path, index=False)\n",
    "\n",
    "# Run pipeline\n",
    "if __name__ == \"__main__\":\n",
    "    main()\n"
   ]
  }
 ],
 "metadata": {
  "kernelspec": {
   "display_name": "Python 3",
   "language": "python",
   "name": "python3"
  },
  "language_info": {
   "codemirror_mode": {
    "name": "ipython",
    "version": 3
   },
   "file_extension": ".py",
   "mimetype": "text/x-python",
   "name": "python",
   "nbconvert_exporter": "python",
   "pygments_lexer": "ipython3",
   "version": "3.13.1"
  }
 },
 "nbformat": 4,
 "nbformat_minor": 2
}
