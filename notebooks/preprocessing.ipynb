{
 "cells": [
  {
   "cell_type": "code",
   "execution_count": 1,
   "metadata": {},
   "outputs": [],
   "source": [
    "# Preprocess Amharic text with improved cleaning\n",
    "def preprocess_amharic_text(df):\n",
    "    # Remove special characters, digits, and extra whitespace\n",
    "    df['clean_text'] = df['text'].apply(\n",
    "        lambda x: re.sub(r'[^\\w\\s፡-፣፤፥፦፧፨መምትቴቸተነለኗተሮናውር፠፩፯፿]', '', x).strip() if isinstance(x, str) else ''\n",
    "    )\n",
    "    return df"
   ]
  }
 ],
 "metadata": {
  "kernelspec": {
   "display_name": "Python 3",
   "language": "python",
   "name": "python3"
  },
  "language_info": {
   "codemirror_mode": {
    "name": "ipython",
    "version": 3
   },
   "file_extension": ".py",
   "mimetype": "text/x-python",
   "name": "python",
   "nbconvert_exporter": "python",
   "pygments_lexer": "ipython3",
   "version": "3.13.1"
  }
 },
 "nbformat": 4,
 "nbformat_minor": 2
}
