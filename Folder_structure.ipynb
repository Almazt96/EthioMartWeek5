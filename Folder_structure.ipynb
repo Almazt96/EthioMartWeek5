{
 "cells": [
  {
   "cell_type": "code",
   "execution_count": 1,
   "metadata": {},
   "outputs": [
    {
     "name": "stderr",
     "output_type": "stream",
     "text": [
      "[2025-01-15 13:03:46,263]:Creating directory: .vscode for the file settings.json:\n",
      "[2025-01-15 13:03:46,264]:Creating empty file: .vscode\\settings.json:\n",
      "[2025-01-15 13:03:46,266]:Creating directory: .github\\workflows for the file unittests.yml:\n",
      "[2025-01-15 13:03:46,267]:Creating empty file: .github\\workflows\\unittests.yml:\n",
      "[2025-01-15 13:03:46,269]:Creating empty file: .gitignore:\n",
      "[2025-01-15 13:03:46,271]:Creating empty file: requirements.txt:\n",
      "[2025-01-15 13:03:46,272]:Creating empty file: README.md:\n",
      "[2025-01-15 13:03:46,274]:Creating directory: src\\dashboard-div for the file app.py:\n",
      "[2025-01-15 13:03:46,276]:Creating empty file: src\\dashboard-div\\app.py:\n",
      "[2025-01-15 13:03:46,277]:Creating directory: src for the file init.py:\n",
      "[2025-01-15 13:03:46,280]:Creating empty file: src\\init.py:\n",
      "[2025-01-15 13:03:46,281]:Creating empty file: data:\n",
      "[2025-01-15 13:03:46,282]:Creating directory: notebooks for the file init.py:\n",
      "[2025-01-15 13:03:46,284]:Creating empty file: notebooks\\init.py:\n",
      "[2025-01-15 13:03:46,285]:Creating directory: notebooks for the file README.md:\n",
      "[2025-01-15 13:03:46,287]:Creating empty file: notebooks\\README.md:\n",
      "[2025-01-15 13:03:46,288]:Creating directory: tests for the file init.py:\n",
      "[2025-01-15 13:03:46,289]:Creating empty file: tests\\init.py:\n",
      "[2025-01-15 13:03:46,290]:Creating directory: scripts for the file init.py:\n",
      "[2025-01-15 13:03:46,292]:Creating empty file: scripts\\init.py:\n",
      "[2025-01-15 13:03:46,293]:Creating directory: scripts for the file README.md:\n",
      "[2025-01-15 13:03:46,294]:Creating empty file: scripts\\README.md:\n"
     ]
    }
   ],
   "source": [
    "import os\n",
    "from pathlib import Path\n",
    "import logging\n",
    "logging.basicConfig(level=logging.INFO, format='[%(asctime)s]:%(message)s:')\n",
    "# List of files we want to create\n",
    "list_of_files = [\n",
    "    \".vscode/settings.json\",\n",
    "    \".github/workflows/unittests.yml\",\n",
    "    \".gitignore\",\n",
    "    \"requirements.txt\",\n",
    "    \"README.md\",\n",
    "    \"src/dashboard-div/app.py\",\n",
    "    \"src/init.py\",\n",
    "    \"data/\",\n",
    "    \"notebooks/init.py\",\n",
    "    \"notebooks/README.md\",\n",
    "    \"tests/init.py\",\n",
    "    \"scripts/init.py\",\n",
    "    \"scripts/README.md\"\n",
    "]\n",
    "for filepath in list_of_files:\n",
    "    filepath = Path(filepath)\n",
    "    filedir, filename = os.path.split(filepath)\n",
    "    if filedir != \"\":\n",
    "        os.makedirs(filedir, exist_ok=True)\n",
    "        logging.info(f\"Creating directory: {filedir} for the file {filename}\")\n",
    "    if (not os.path.exists(filepath)) or (os.path.getsize(filepath) == 0):\n",
    "        with open(filepath, 'w') as f:\n",
    "            pass\n",
    "        logging.info(f\"Creating empty file: {filepath}\")\n",
    "    else:\n",
    "        logging.info(f\"{filename} is already created\")"
   ]
  }
 ],
 "metadata": {
  "kernelspec": {
   "display_name": "Python 3",
   "language": "python",
   "name": "python3"
  },
  "language_info": {
   "codemirror_mode": {
    "name": "ipython",
    "version": 3
   },
   "file_extension": ".py",
   "mimetype": "text/x-python",
   "name": "python",
   "nbconvert_exporter": "python",
   "pygments_lexer": "ipython3",
   "version": "3.13.1"
  }
 },
 "nbformat": 4,
 "nbformat_minor": 2
}
